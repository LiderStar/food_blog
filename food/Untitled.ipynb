{
 "cells": [
  {
   "cell_type": "code",
   "execution_count": 1,
   "id": "44280103",
   "metadata": {},
   "outputs": [],
   "source": [
    "from django.db import models\n",
    "from blog.models import Post"
   ]
  },
  {
   "cell_type": "code",
   "execution_count": 3,
   "id": "80457706",
   "metadata": {},
   "outputs": [
    {
     "data": {
      "text/plain": [
       "<QuerySet [<Post: Healthy Eating>]>"
      ]
     },
     "execution_count": 3,
     "metadata": {},
     "output_type": "execute_result"
    }
   ],
   "source": [
    "Post.objects.all()"
   ]
  },
  {
   "cell_type": "code",
   "execution_count": 4,
   "id": "d58c09ed",
   "metadata": {},
   "outputs": [
    {
     "data": {
      "text/plain": [
       "<QuerySet [<Post: Healthy Eating>]>"
      ]
     },
     "execution_count": 4,
     "metadata": {},
     "output_type": "execute_result"
    }
   ],
   "source": [
    "Post.objects.filter(category__name=\"Vegan\")"
   ]
  },
  {
   "cell_type": "code",
   "execution_count": 5,
   "id": "0672b00e",
   "metadata": {},
   "outputs": [],
   "source": [
    "i = Post.objects.all()\n"
   ]
  },
  {
   "cell_type": "code",
   "execution_count": 9,
   "id": "2254cdf4",
   "metadata": {},
   "outputs": [
    {
     "ename": "AttributeError",
     "evalue": "'Post' object has no attribute 'category__name'",
     "output_type": "error",
     "traceback": [
      "\u001b[1;31m---------------------------------------------------------------------------\u001b[0m",
      "\u001b[1;31mAttributeError\u001b[0m                            Traceback (most recent call last)",
      "Cell \u001b[1;32mIn[9], line 2\u001b[0m\n\u001b[0;32m      1\u001b[0m \u001b[38;5;28;01mfor\u001b[39;00m y \u001b[38;5;129;01min\u001b[39;00m i:\n\u001b[1;32m----> 2\u001b[0m     \u001b[38;5;28mprint\u001b[39m(\u001b[43my\u001b[49m\u001b[38;5;241;43m.\u001b[39;49m\u001b[43mcategory__name\u001b[49m())\n",
      "\u001b[1;31mAttributeError\u001b[0m: 'Post' object has no attribute 'category__name'"
     ]
    }
   ],
   "source": [
    "for y in i:\n",
    "    print(y.category__name())"
   ]
  },
  {
   "cell_type": "code",
   "execution_count": 10,
   "id": "e5610d08",
   "metadata": {},
   "outputs": [
    {
     "data": {
      "text/plain": [
       "<QuerySet [{'id': 2, 'author_id': 1, 'title': 'Healthy Eating', 'text': '<p style=\"margin-left:0; margin-right:0; text-align:start\">Eating a healthy diet is not about strict limitations, staying unrealistically thin, or depriving yourself of the foods you love. Rather, it&rsquo;s about feeling great, having more energy, improving your health, and boosting your mood.</p>\\r\\n\\r\\n<p style=\"margin-left:0; margin-right:0; text-align:start\">Healthy eating doesn&rsquo;t have to be overly complicated. If you feel overwhelmed by all the conflicting nutrition and diet advice out there, you&rsquo;re not alone. It seems that for every expert who tells you a certain food is good for you, you&rsquo;ll find another saying exactly the opposite. The truth is that while some specific foods or nutrients have been shown to have a beneficial effect on mood, it&rsquo;s your overall dietary pattern that is most important. The cornerstone of a healthy diet should be to replace processed food with real food whenever possible. Eating food that is as close as possible to the way nature made it can make a huge difference to the way you think, look, and feel.</p>\\r\\n\\r\\n<p style=\"margin-left:0; margin-right:0; text-align:start\">By using these simple tips, you can cut through the confusion and learn how to create&mdash;and stick to&mdash;a tasty, varied, and nutritious diet that is as good for your mind as it is for your body.</p>', 'image': 'media/2023/02/05/1.png', 'create_at': datetime.datetime(2023, 2, 4, 17, 10, 38, 289795, tzinfo=datetime.timezone.utc), 'category_id': 7}]>"
      ]
     },
     "execution_count": 10,
     "metadata": {},
     "output_type": "execute_result"
    }
   ],
   "source": [
    "Post.objects.values()"
   ]
  },
  {
   "cell_type": "code",
   "execution_count": 11,
   "id": "e7b855d6",
   "metadata": {},
   "outputs": [],
   "source": [
    "list = Post.objects.all()\n"
   ]
  },
  {
   "cell_type": "code",
   "execution_count": 13,
   "id": "b0747524",
   "metadata": {},
   "outputs": [
    {
     "name": "stdout",
     "output_type": "stream",
     "text": [
      "Vegan\n"
     ]
    }
   ],
   "source": [
    "for i in list:\n",
    "    print(i.category.name)"
   ]
  },
  {
   "cell_type": "code",
   "execution_count": 18,
   "id": "b576cf1f",
   "metadata": {},
   "outputs": [
    {
     "data": {
      "text/plain": [
       "<QuerySet [{'id': 2, 'author_id': 1, 'title': 'Healthy Eating', 'text': '<p style=\"margin-left:0; margin-right:0; text-align:start\">Eating a healthy diet is not about strict limitations, staying unrealistically thin, or depriving yourself of the foods you love. Rather, it&rsquo;s about feeling great, having more energy, improving your health, and boosting your mood.</p>\\r\\n\\r\\n<p style=\"margin-left:0; margin-right:0; text-align:start\">Healthy eating doesn&rsquo;t have to be overly complicated. If you feel overwhelmed by all the conflicting nutrition and diet advice out there, you&rsquo;re not alone. It seems that for every expert who tells you a certain food is good for you, you&rsquo;ll find another saying exactly the opposite. The truth is that while some specific foods or nutrients have been shown to have a beneficial effect on mood, it&rsquo;s your overall dietary pattern that is most important. The cornerstone of a healthy diet should be to replace processed food with real food whenever possible. Eating food that is as close as possible to the way nature made it can make a huge difference to the way you think, look, and feel.</p>\\r\\n\\r\\n<p style=\"margin-left:0; margin-right:0; text-align:start\">By using these simple tips, you can cut through the confusion and learn how to create&mdash;and stick to&mdash;a tasty, varied, and nutritious diet that is as good for your mind as it is for your body.</p>', 'image': 'media/2023/02/05/1.png', 'create_at': datetime.datetime(2023, 2, 4, 17, 10, 38, 289795, tzinfo=datetime.timezone.utc), 'category_id': 7}]>"
      ]
     },
     "execution_count": 18,
     "metadata": {},
     "output_type": "execute_result"
    }
   ],
   "source": [
    "Post.objects.values()"
   ]
  }
 ],
 "metadata": {
  "kernelspec": {
   "display_name": "Django Shell-Plus",
   "language": "python",
   "name": "django_extensions"
  },
  "language_info": {
   "codemirror_mode": {
    "name": "ipython",
    "version": 3
   },
   "file_extension": ".py",
   "mimetype": "text/x-python",
   "name": "python",
   "nbconvert_exporter": "python",
   "pygments_lexer": "ipython3",
   "version": "3.10.4"
  }
 },
 "nbformat": 4,
 "nbformat_minor": 5
}
